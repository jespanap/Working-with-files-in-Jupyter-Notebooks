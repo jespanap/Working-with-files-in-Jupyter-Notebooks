{
 "cells": [
  {
   "cell_type": "markdown",
   "id": "304a4935-39a9-4bd7-8aba-7f3c37a62f6f",
   "metadata": {},
   "source": [
    "# Data Science Tools and Ecosystem"
   ]
  },
  {
   "cell_type": "markdown",
   "id": "66f095f9-6485-4ba5-8108-eca1c6bcaf35",
   "metadata": {},
   "source": [
    "#### In this notebook, Data Science Tools and Ecosystem are summarixed"
   ]
  },
  {
   "cell_type": "markdown",
   "id": "bfb2c479-5736-40e8-853c-6618ecd58403",
   "metadata": {},
   "source": [
    "**Objectives**\n",
    "- List popular languages for data science\n",
    "- List common libraries for data science\n",
    "- List some data science tools"
   ]
  },
  {
   "cell_type": "markdown",
   "id": "4c681df7-9534-4491-ab0b-512243f3d607",
   "metadata": {},
   "source": [
    "##### Some of the popular languages that Data Scientists use are:\n",
    "1. Python\n",
    "2. R\n",
    "3. Scala"
   ]
  },
  {
   "cell_type": "markdown",
   "id": "f2ac87d0-b098-4f67-8682-5ae1bb3b98d3",
   "metadata": {},
   "source": [
    "##### Some of the commonly used libraries used by Data Scientists include:\n",
    "1. Pandas\n",
    "2. Numbpy\n",
    "3. SciPy"
   ]
  },
  {
   "cell_type": "markdown",
   "id": "a884e765-ecb1-42a4-b3bd-01178a9d9643",
   "metadata": {
    "jp-MarkdownHeadingCollapsed": true
   },
   "source": [
    "|Data Science Tools|\n",
    "|--------|\n",
    "|Anaconda|\n",
    "|Apache Hadoop|\n",
    "|Apache Spark|\n",
    "\n"
   ]
  },
  {
   "cell_type": "markdown",
   "id": "98faa294-e440-42fb-b70d-7c253f630baa",
   "metadata": {},
   "source": [
    "### Below are  few examples of evaluating arithmetic expressions in Python"
   ]
  },
  {
   "cell_type": "code",
   "execution_count": 2,
   "id": "7c39639b-d828-478f-8406-f32ff17c659d",
   "metadata": {},
   "outputs": [
    {
     "data": {
      "text/plain": [
       "17"
      ]
     },
     "execution_count": 2,
     "metadata": {},
     "output_type": "execute_result"
    }
   ],
   "source": [
    "## This a simple arithmetic expression to multiply then add integers\n",
    "(3*4)+5"
   ]
  },
  {
   "cell_type": "code",
   "execution_count": 6,
   "id": "bd0f29b6-cadc-486e-a36a-bdfbb7c3d55c",
   "metadata": {},
   "outputs": [
    {
     "name": "stdout",
     "output_type": "stream",
     "text": [
      "200 minutes are 3.3333333333333335 hours\n"
     ]
    }
   ],
   "source": [
    "## Ths will convert 200 minutes to hours by diving by 60\n",
    "a = 200/60\n",
    "print('200 minutes are',a, 'hours')"
   ]
  },
  {
   "cell_type": "markdown",
   "id": "a86dc833-b15d-4d56-8f37-095577c3276f",
   "metadata": {},
   "source": [
    "## Author \n",
    "Jaider España Paternina "
   ]
  }
 ],
 "metadata": {
  "kernelspec": {
   "display_name": "Python 3 (ipykernel)",
   "language": "python",
   "name": "python3"
  },
  "language_info": {
   "codemirror_mode": {
    "name": "ipython",
    "version": 3
   },
   "file_extension": ".py",
   "mimetype": "text/x-python",
   "name": "python",
   "nbconvert_exporter": "python",
   "pygments_lexer": "ipython3",
   "version": "3.12.7"
  }
 },
 "nbformat": 4,
 "nbformat_minor": 5
}
